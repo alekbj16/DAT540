{
 "cells": [
  {
   "cell_type": "markdown",
   "metadata": {},
   "source": [
    "\n",
    " \n",
    "## Assignment 1\n",
    "#### Course: Introduction to Data Science (DAT540)\n",
    "#### Topic: Basic Python\n",
    "#### Name: Aleksander B. Jakobsen\n",
    "#### Stundent number: 236227\n",
    "#### University of Stavanger\n",
    "#### September 2020\n"
   ]
  },
  {
   "cell_type": "markdown",
   "metadata": {},
   "source": [
    "***\n",
    "*Note: Relevant sources are given as comment in code, and all sources displayed in the end of the notebook.*\n",
    "***\n",
    "### Problem 1: Rock-Paper-Siccor\n",
    "For problem 1, two functions have been defined. The first one is used to prompt players for input. This function, called getUserInputs(), presents the choices to the players. The function further takes input arguments from the users, first from player 1, and then from player 2. For each given input, a while loop is used to re-prompt for input if the given input is unvalid. Valid inputs are pre-defined in the function. The function returns two variables; the choices of player 1 and player 2. \n",
    "\n",
    "getUserInputs() is defined as: "
   ]
  },
  {
   "cell_type": "code",
   "execution_count": 1,
   "metadata": {},
   "outputs": [],
   "source": [
    "#Prompt for player inputs\n",
    "def getUserInputs():\n",
    "    \"\"\"\n",
    "    Asks player number 1 and player number 2 for choice. \n",
    "    Only valid choices (rock, paper, siccor) are accepted.\n",
    "    Returns the choice of player 1 and player 2\n",
    "    \"\"\"\n",
    "    validInputs = ['rock','paper','siccor']\n",
    "    print(\"Welcome to rock-paper-scissor!\\nThe possible choices are:\\n-rock \\n-paper \\n-siccor \")\n",
    "    player1 = input(\"Player 1, please enter your choice (rock, paper or siccor): \").lower() #Lower so that is input is given in capital letters, it is accepted. \n",
    "    #Check for valid input player 1\n",
    "    while(player1 not in validInputs):\n",
    "        player1 = input(\"Unvalid input. Player 1, please re-enter your choice (rock, paper or siccor):\").lower()\n",
    "    player2 = input(\"Player 2, please enter your choice (rock, paper or siccor): \").lower()\n",
    "    #Check for valid input player 2\n",
    "    while(player2 not in validInputs):\n",
    "        player2 = input(\"Unvalid input. Player 2, please re-enter your choice (rock, paper or siccor):\").lower()\n",
    "    return player1, player2"
   ]
  },
  {
   "cell_type": "markdown",
   "metadata": {},
   "source": [
    "The second function defined for problem 1 is the game itself, called RoPaSc(). This function defines a list playerHands consisting of the user inputs, as well as an arbitrary \"index0\" element. Thus, in the list playerHands, the choice of player 1 is stored with index 1, and the choice of player 2 is stored with index 2.\n",
    "\n",
    "Further, the player choices are printed to acheive the output form as defined in the problem sheet.\n",
    "\n",
    "The function checks if the players have played the same hand. If this is the case, then the players are informed and nobody wins. Otherwise, the function checks the hands of the players and returns the winner. \n",
    "\n",
    "The function is defined as: "
   ]
  },
  {
   "cell_type": "code",
   "execution_count": 2,
   "metadata": {},
   "outputs": [],
   "source": [
    "#Define the game\n",
    "def RoPaSc(player_1_hand, player_2_hand):\n",
    "    \"\"\"\n",
    "    player_1_hand: Player 1 input in string format\n",
    "    player_2_hand: Player 2 input in string format\n",
    "    The function prints who won the game, or if it is a tie.\n",
    "    \"\"\"\n",
    "    playerHands = [\"index0\",player_1_hand,player_2_hand] #Index0 so that player 1 is index 1 and player 2 is index 2\n",
    "    print(\"Player 1: \" + player_1_hand +\"\\nPlayer 2: \" + player_2_hand)\n",
    "    if (player_1_hand == player_2_hand):\n",
    "        output = \"None of you won, you played the same hands!\"\n",
    "    elif ((player_1_hand == \"rock\" or player_2_hand == \"rock\") and (player_1_hand == \"siccor\" or player_2_hand == \"siccor\")):\n",
    "        #rock beats sciccor\n",
    "        output = \"Player \" + str([r for r in range(len(playerHands)) if playerHands[r] == \"rock\"]) + \": wins.\"\n",
    "    elif ((player_1_hand == \"paper\" or player_2_hand == \"paper\") and (player_1_hand == \"rock\" or player_2_hand == \"rock\")):\n",
    "        #paper beats rock\n",
    "        output = \"Player \" + str([p for p in range(0,len(playerHands)) if playerHands[p] == \"paper\"]) + \": wins.\"\n",
    "    elif ((player_1_hand == \"paper\" or player_2_hand == \"paper\") and (player_1_hand == \"siccor\" or player_2_hand == \"siccor\")):\n",
    "        #siccor beats paper\n",
    "        output = \"Player \" + str([s for s in range(len(playerHands)) if playerHands[s] == \"siccor\"]) + \": wins.\"\n",
    "    output = output.replace(\"[\",\"\")\n",
    "    output = output.replace(\"]\",\"\")\n",
    "    print(output)"
   ]
  },
  {
   "cell_type": "markdown",
   "metadata": {},
   "source": [
    "Now lets try to play the game! "
   ]
  },
  {
   "cell_type": "code",
   "execution_count": 3,
   "metadata": {},
   "outputs": [
    {
     "name": "stdout",
     "output_type": "stream",
     "text": [
      "Welcome to rock-paper-scissor!\n",
      "The possible choices are:\n",
      "-rock \n",
      "-paper \n",
      "-siccor \n",
      "Player 1, please enter your choice (rock, paper or siccor): rock\n",
      "Player 2, please enter your choice (rock, paper or siccor): siccor\n",
      "Player 1: rock\n",
      "Player 2: siccor\n",
      "Player 1: wins.\n"
     ]
    }
   ],
   "source": [
    "#Get the inputs from the users:\n",
    "player1, player2 = getUserInputs() #Try for example with rock and siccor\n",
    "\n",
    "\n",
    "#Run the game using inputs:\n",
    "RoPaSc(player1,player2)"
   ]
  },
  {
   "cell_type": "markdown",
   "metadata": {},
   "source": [
    "***\n",
    "### Problem 2: Ceaser cipher\n",
    "For the Ceaser cipher problem, I define several functions. Firstly, I define a function to open the file, openFile(someFile): "
   ]
  },
  {
   "cell_type": "code",
   "execution_count": 4,
   "metadata": {},
   "outputs": [],
   "source": [
    "def openFile(someFile):\n",
    "    \"\"\"\n",
    "    someFile: Name of a txt file as a string\n",
    "    openFile opens the specified .txt file and returns the content of the file.\n",
    "    \"\"\"\n",
    "    f = open(someFile,\"r\")\n",
    "    return f.read()"
   ]
  },
  {
   "cell_type": "markdown",
   "metadata": {},
   "source": [
    "Lets quickly check that this works as desired: "
   ]
  },
  {
   "cell_type": "code",
   "execution_count": 5,
   "metadata": {},
   "outputs": [
    {
     "name": "stdout",
     "output_type": "stream",
     "text": [
      "Why is AI attracting so much attention?\n",
      "AI is the new electricity. It will transform every industry and create huge economic value. \n",
      "Technology like supervised learning is automation on steroids. \n",
      "It is very good at automating tasks and will have an impact on every sector from healthcare to manufacturing, logistics and retail.\n"
     ]
    }
   ],
   "source": [
    "print(openFile(\"plain.txt\"))"
   ]
  },
  {
   "cell_type": "markdown",
   "metadata": {},
   "source": [
    "This looks good. Note that for this to work, the file plain.txt needs to be in the same folder location (working directory) as the current notebook. \n",
    "\n",
    "The next step is to cipher the text. The cipher key, k, is specified to be the last number of the year of a date of birth. \n",
    "Example: Date of birth is 01-10-1996, then k = 6. \n",
    "\n",
    "To start off,  some user input is needed to get a birthdate. This is done by defining a function getDateOfBirth(), as shown below: "
   ]
  },
  {
   "cell_type": "code",
   "execution_count": 6,
   "metadata": {},
   "outputs": [],
   "source": [
    "def getDateOfBirth():\n",
    "    \"\"\"\n",
    "    prompts user for birthday.\n",
    "    returns the given birthday.\n",
    "    \"\"\"\n",
    "    date = input(\"Enter your date of birth [DD-MM-YYYY]: \")\n",
    "    return date"
   ]
  },
  {
   "cell_type": "markdown",
   "metadata": {},
   "source": [
    "In order to assure that the input is valid, a function named checkValid(date) is defined. This function calls several other functions which I also define: "
   ]
  },
  {
   "cell_type": "code",
   "execution_count": 7,
   "metadata": {},
   "outputs": [],
   "source": [
    "def checkValid(date):\n",
    "    \"\"\"\n",
    "    Raises error if date is unvalid.\n",
    "    Returns date if valid.\n",
    "    \"\"\"\n",
    "    d, m, y = d,m,y = date.split(\"-\")\n",
    "    try: \n",
    "        year = checkYear(y)\n",
    "        month = checkMonth(m)\n",
    "        day = checkDay(d)\n",
    "    except ValueError as err:\n",
    "        print(\"Birthday not valid date: \" + str(err))\n",
    "    return date\n"
   ]
  },
  {
   "cell_type": "markdown",
   "metadata": {},
   "source": [
    "Where the functions checkYear(y), checkMonth(m) and checkDay(d) is defined as the following: "
   ]
  },
  {
   "cell_type": "code",
   "execution_count": 8,
   "metadata": {},
   "outputs": [],
   "source": [
    "\n",
    "def checkYear(year):\n",
    "    \"\"\"\n",
    "    Checks if the input year is valid.\n",
    "    Raises ValueError if nonvalid year. \n",
    "    Returns year if valid. \n",
    "    \"\"\"\n",
    "    yr = int(year)\n",
    "    if (yr > 1900 and yr <= 2020):\n",
    "        return yr\n",
    "    else:\n",
    "        raise ValueError(\"Year not valid\")\n",
    "\n",
    "def checkMonth(month):\n",
    "    \"\"\"\n",
    "    Checks if the input month is valid.\n",
    "    Raises ValueError if nonvalid month. \n",
    "    Returns month if valid. \n",
    "    \"\"\"\n",
    "    m = int(month)\n",
    "    if (m >= 1 and m <= 12):\n",
    "        return m\n",
    "    else:\n",
    "        raise ValueError(\"Month not valid\")\n",
    "\n",
    "def checkDay(day):\n",
    "    \"\"\"\n",
    "    Checks if the input day is valid.\n",
    "    Raises ValueError if nonvalid day. \n",
    "    Returns day if valid. \n",
    "    \"\"\"\n",
    "    d = int(day)\n",
    "    if (d >=1 and d <=31):\n",
    "        return d\n",
    "    else:\n",
    "        raise ValueError(\"Day not valid\")\n"
   ]
  },
  {
   "cell_type": "markdown",
   "metadata": {},
   "source": [
    "To get the key from the date, I define a function which takes the date as input (string format), and returns the key, k, as an int: "
   ]
  },
  {
   "cell_type": "code",
   "execution_count": 9,
   "metadata": {},
   "outputs": [],
   "source": [
    "def getK(date):\n",
    "    \"\"\"\n",
    "    date: Birthday as a string [DD-MM-YYYY]\n",
    "    k: Year ending of birthday\n",
    "    returns k\n",
    "    \"\"\"\n",
    "    d,m,y = date.split(\"-\")\n",
    "    k = y[-1]\n",
    "    return int(k)"
   ]
  },
  {
   "cell_type": "markdown",
   "metadata": {},
   "source": [
    "Lets try combining some of the above code and see if it works. First by giving a valid date as input, and then by giving unvalid input. "
   ]
  },
  {
   "cell_type": "code",
   "execution_count": 10,
   "metadata": {},
   "outputs": [
    {
     "name": "stdout",
     "output_type": "stream",
     "text": [
      "Enter your date of birth [DD-MM-YYYY]: 01-01-1996\n",
      "Key:  6\n"
     ]
    }
   ],
   "source": [
    "day = getDateOfBirth() #Try by giving valid date, for example \"01-01-1996\"\n",
    "validDate = checkValid(day)\n",
    "k = getK(day)\n",
    "print(\"Key: \",k)"
   ]
  },
  {
   "cell_type": "code",
   "execution_count": 11,
   "metadata": {},
   "outputs": [
    {
     "name": "stdout",
     "output_type": "stream",
     "text": [
      "Enter your date of birth [DD-MM-YYYY]: 01-01-1889\n",
      "Birthday not valid date: Year not valid\n"
     ]
    }
   ],
   "source": [
    "day = getDateOfBirth() #Try by giving date for example \"01-01-1889\"\n",
    "validDate = checkValid(day)\n",
    "k = getK(day)\n"
   ]
  },
  {
   "cell_type": "markdown",
   "metadata": {},
   "source": [
    "As seen in the two code segments above, when giving a non-valid input, a message stating what is unvalid is given. \n",
    "\n",
    "In order to cipher the text, I convert the imported .txt file to an array by defining a function stringToList(someString) which takes a string as an argument and returns an array of characters. For this, numpy is needed: "
   ]
  },
  {
   "cell_type": "code",
   "execution_count": 12,
   "metadata": {},
   "outputs": [],
   "source": [
    "import numpy as np\n",
    "\n",
    "def stringToList(someString):\n",
    "    \"\"\"\n",
    "    Returns string as array of characters\n",
    "    \"\"\"\n",
    "    return np.asarray([char for char in someString])\n"
   ]
  },
  {
   "cell_type": "markdown",
   "metadata": {},
   "source": [
    "Combining all the above as well as defining rules for the cipher results in the cipered text. "
   ]
  },
  {
   "cell_type": "code",
   "execution_count": 13,
   "metadata": {},
   "outputs": [],
   "source": [
    "\n",
    "def ceaserCipher(fileName):\n",
    "    \"\"\"\n",
    "    Prompts user for a birthday.\n",
    "    Returns content of given .txt file ciphered using the ceaser cipher method.\n",
    "    Note: Does not cipher symbols, e.g. \"!\",\".\",\"?\".\n",
    "    \"\"\"\n",
    "    fileContent = openFile(fileName) #Open file content\n",
    "    contentAsChar = stringToList(fileContent) #Convert content to chars\n",
    "    birth = getDateOfBirth() #Get date of birth from user\n",
    "    isValid = checkValid(birth) #Check if valid date is given\n",
    "    k = getK(birth)\n",
    "    cipherString = \"\"\n",
    "    for c in contentAsChar:\n",
    "        if c.isalpha(): #check if c is ASCII alphanumerical character. #Source [1]\n",
    "            cipher = (ord(c) + k) #Source[2]\n",
    "            if cipher > ord('z'):\n",
    "                cipher -= 26 #shift if outside alphabet\n",
    "        else: #if c is not a alphabetical char (ex: \"?\", \".\", \"!\" etc.)\n",
    "            cipher = ord(c)\n",
    "        cipherString += chr(cipher)\n",
    "    print(\"Plain text: \" + fileContent)\n",
    "    return \"\\nCiphered text: \" + cipherString"
   ]
  },
  {
   "cell_type": "markdown",
   "metadata": {},
   "source": [
    "What exatcly is happening in the ceaserCipher(fileName) function above?\n",
    "To start of, the funtion retrieves the content of the file, using the already defined openFile(fileName) function. Then, the content of the file is converted to an array of charachters using the strinToList(fileContent) function. The user is then asked to give date of birth, and this date is checked. The getK(birth) function is used to retrieve the cipher key. \n",
    "\n",
    "With the retrieved key, the cipher itself can begin. An empty string called cipherString is created. I then loop through the characters. For each character, I use the isalpha() function to check if the character is alphanumerical. In this way, I avoid shifting any symboks like \"!\",\".\",\"?\" and so on. \n",
    "\n",
    "If the character is alphanumerical, I convert the caracter to its ASCIInumerical value, using the ord() function. I then add the key. I check that the new value is not outside the alphabet (this is done by ``` \n",
    "if cipher > ord('z'): ``` in line 17 in the above code). If the new value is outside the alphabet, I \"wrap\" it around the alphabet by substracting the length of the alphabet. Then, this is the new character value.\n",
    "\n",
    "If the character is not alphanumerical, it is simply added as it is. \n",
    "Finally, the characters are combined to a string. \n",
    "\n",
    "Lets try the function!"
   ]
  },
  {
   "cell_type": "code",
   "execution_count": 14,
   "metadata": {},
   "outputs": [
    {
     "name": "stdout",
     "output_type": "stream",
     "text": [
      "Enter your date of birth [DD-MM-YYYY]: 02-02-2001\n",
      "Plain text: Why is AI attracting so much attention?\n",
      "AI is the new electricity. It will transform every industry and create huge economic value. \n",
      "Technology like supervised learning is automation on steroids. \n",
      "It is very good at automating tasks and will have an impact on every sector from healthcare to manufacturing, logistics and retail.\n",
      "\n",
      "Ciphered text: Xiz jt BJ buusbdujoh tp nvdi buufoujpo?\n",
      "BJ jt uif ofx fmfdusjdjuz. Ju xjmm usbotgpsn fwfsz joevtusz boe dsfbuf ivhf fdpopnjd wbmvf. \n",
      "Ufdiopmphz mjlf tvqfswjtfe mfbsojoh jt bvupnbujpo po tufspjet. \n",
      "Ju jt wfsz hppe bu bvupnbujoh ubtlt boe xjmm ibwf bo jnqbdu po fwfsz tfdups gspn ifbmuidbsf up nbovgbduvsjoh, mphjtujdt boe sfubjm.\n"
     ]
    }
   ],
   "source": [
    "print(ceaserCipher(\"plain.txt\")) #Try to cipher with something, say 02-02-2001, then its easy to recognize"
   ]
  },
  {
   "cell_type": "markdown",
   "metadata": {},
   "source": [
    "*** \n",
    "### Problem 3: Find most consecutive ones in ndarray (two-dimensions)\n",
    "\n",
    "To start off, I define a function, checkOnesArrar(someArray) which takes a one-dimensional array, someArray as input and returns the max number of consecutive ones in that array. \n",
    "\n",
    "To do this, I use use the groupby function from itertools. \n",
    "The groupby function groups consecutive elements if they are identical. The groupby function retruns tuples containing the element key and the sequence of elements itself. \n",
    "\n",
    "Quick example of what the groupby function does: "
   ]
  },
  {
   "cell_type": "code",
   "execution_count": 15,
   "metadata": {},
   "outputs": [
    {
     "name": "stdout",
     "output_type": "stream",
     "text": [
      "1 [1, 1, 1]\n",
      "0 [0, 0]\n",
      "1 [1, 1, 1, 1]\n"
     ]
    }
   ],
   "source": [
    "from itertools import groupby #Source [3] \n",
    "ar = np.array([1,1,1,0,0,1,1,1,1])\n",
    "tuples = groupby(ar)\n",
    "for t,g in tuples:\n",
    "    print(t, list(g))"
   ]
  },
  {
   "cell_type": "markdown",
   "metadata": {},
   "source": [
    "So the output is value of the groupes, as well as the group itself. \n",
    "Then, by simply using the max length of ones in each group, I find the longest consecutive lines of ones. The complete function is as defined below: "
   ]
  },
  {
   "cell_type": "code",
   "execution_count": 16,
   "metadata": {},
   "outputs": [],
   "source": [
    "def checkOnesArray(someArray):\n",
    "    tuples = groupby(someArray)\n",
    "    numberOfConsecutives = []\n",
    "    for t in tuples:\n",
    "        if t[0] == 1:\n",
    "            numberOfConsecutives.append(len(list(t[1])))\n",
    "    if len(numberOfConsecutives) == True: \n",
    "        maxOnes = max(numberOfConsecutives)         \n",
    "        return maxOnes\n",
    "    else: #In case of only zeroes\n",
    "        return 0"
   ]
  },
  {
   "cell_type": "markdown",
   "metadata": {},
   "source": [
    "If the complete function above, note that I have implemented in line 5 an if statement ```if t[0] == 1:```. This way, I state that I'm only interested in the groups where there are ones, and that I'm not interested in zeros. Also not that in line 10, the else statement is implemented to avoid errors if a given array only consists of zeros. For example if the input would have been \\[0,0,0,0], then there are no consecutive ones, and the function should then return 0. \n",
    "\n",
    "I start off by defining a function, createArray(), that allows the user to create an array: "
   ]
  },
  {
   "cell_type": "code",
   "execution_count": 17,
   "metadata": {},
   "outputs": [
    {
     "name": "stdout",
     "output_type": "stream",
     "text": [
      "Hello! Let's generate a N x M matrix consisting of zeros and ones!\n",
      "Enter N: 2\n",
      "Enter M: 3\n",
      "[[1 0 1]\n",
      " [1 1 0]]\n"
     ]
    }
   ],
   "source": [
    "def createArray():\n",
    "    print(\"Hello! Let's generate a N x M matrix consisting of zeros and ones!\")\n",
    "    n = int(input(\"Enter N: \"))\n",
    "    m = int(input(\"Enter M: \"))\n",
    "    arr2d = np.random.randint(low = 0, high = 2, size = (n,m)) #high = 2 as stated in source [4] https://docs.scipy.org/doc/numpy-1.15.1/reference/generated/numpy.random.randint.html\n",
    "    return arr2d\n",
    "\n",
    "arr2d = createArray()\n",
    "print(arr2d)"
   ]
  },
  {
   "cell_type": "markdown",
   "metadata": {},
   "source": [
    "We now have an ndarray of two dimensions (matrix) which contains zeros and ones. \n",
    "\n",
    "I first start off creating a function checkHorisontal(twoDimArr). The function takes a two dimensional array as input. It loops throug each row. Each row is send to the checkOnesArray(someArray) function. Each check returns a number of consecutive ones. In line 5, ```if ones > maxOnesHor:``` and line 6 ```maxOnesHor = ones```, the maximum ones is stored. This value is then returned. "
   ]
  },
  {
   "cell_type": "code",
   "execution_count": 18,
   "metadata": {},
   "outputs": [],
   "source": [
    "def checkHorisontal(twoDimArr):\n",
    "    maxOnesHor = 0\n",
    "    for row in twoDimArr:\n",
    "        ones = checkOnesArray(row)\n",
    "        if ones > maxOnesHor:\n",
    "            maxOnesHor = ones\n",
    "    return maxOnesHor\n"
   ]
  },
  {
   "cell_type": "markdown",
   "metadata": {},
   "source": [
    "Lets quickly test this on the array given above:"
   ]
  },
  {
   "cell_type": "code",
   "execution_count": 19,
   "metadata": {},
   "outputs": [
    {
     "name": "stdout",
     "output_type": "stream",
     "text": [
      "[[1 0 1]\n",
      " [1 1 0]]\n",
      "Maximum consecutive ones in the horisontal direction: 2\n"
     ]
    }
   ],
   "source": [
    "print(arr2d)\n",
    "print(\"Maximum consecutive ones in the horisontal direction:\",checkHorisontal(arr2d)) "
   ]
  },
  {
   "cell_type": "markdown",
   "metadata": {},
   "source": [
    "By transposing the two-dimensional array, one can check the consecutive ones in the vertical direction by using the checkHorisontal(twoDimArray) function: "
   ]
  },
  {
   "cell_type": "code",
   "execution_count": 20,
   "metadata": {},
   "outputs": [],
   "source": [
    "def checkVertical(twoDimArr):\n",
    "    transposed = twoDimArr.T #Using the transposed matrix to check vertical in the same way as horisontal\n",
    "    maxOnesVert = checkHorisontal(transposed)\n",
    "    return maxOnesVert"
   ]
  },
  {
   "cell_type": "markdown",
   "metadata": {},
   "source": [
    "Lets test this as well: "
   ]
  },
  {
   "cell_type": "code",
   "execution_count": 21,
   "metadata": {},
   "outputs": [
    {
     "name": "stdout",
     "output_type": "stream",
     "text": [
      "[[1 0 1]\n",
      " [1 1 0]]\n",
      "Maximum consecutive ones in the vertical direction: 2\n"
     ]
    }
   ],
   "source": [
    "print(arr2d)\n",
    "print(\"Maximum consecutive ones in the vertical direction:\",checkVertical(arr2d))"
   ]
  },
  {
   "cell_type": "markdown",
   "metadata": {},
   "source": [
    "Further, a function to extract the diagonals from the two-dimensional array is defined. The function uses the numpy.diagonal() to extract diagonals. Looping for various offsets allows for extracing all the diagonals. The funcction returns a list of arrays containing the diagonals."
   ]
  },
  {
   "cell_type": "code",
   "execution_count": 22,
   "metadata": {},
   "outputs": [],
   "source": [
    "def getDiagonals(twoDimArr):\n",
    "    n, m = np.shape(twoDimArr)\n",
    "    off = max(n,m)\n",
    "    diags = []\n",
    "    #print(n, m, \"Largest: \", off)\n",
    "    for o in range(-off,off):\n",
    "        diag = (twoDimArr.diagonal(offset = o)) #Source [5]\n",
    "        if diag.size != 0:\n",
    "            diags.append(diag)\n",
    "    return diags"
   ]
  },
  {
   "cell_type": "markdown",
   "metadata": {},
   "source": [
    "Lets see how this looks:"
   ]
  },
  {
   "cell_type": "code",
   "execution_count": 23,
   "metadata": {},
   "outputs": [
    {
     "name": "stdout",
     "output_type": "stream",
     "text": [
      "[[1 0 1]\n",
      " [1 1 0]]\n",
      "Diagonals as numpy arrays: [array([1]), array([1, 1]), array([0, 0]), array([1])]\n"
     ]
    }
   ],
   "source": [
    "print(arr2d)\n",
    "diags = getDiagonals(arr2d)\n",
    "print(\"Diagonals as numpy arrays:\",diags)"
   ]
  },
  {
   "cell_type": "markdown",
   "metadata": {},
   "source": [
    "The diagonals are used as input in a checkDiagonals(someDiags) function, which is simular to the checkHorizontal(twoDimArr) function:"
   ]
  },
  {
   "cell_type": "code",
   "execution_count": 24,
   "metadata": {},
   "outputs": [],
   "source": [
    "def checkDiagonals(someDiags):\n",
    "    maxOnesDiag = 0\n",
    "    for d in someDiags:\n",
    "        ones = checkOnesArray(d)\n",
    "        if ones > maxOnesDiag:\n",
    "            maxOnesDiag = ones\n",
    "    return maxOnesDiag"
   ]
  },
  {
   "cell_type": "markdown",
   "metadata": {},
   "source": [
    "Lets test this:"
   ]
  },
  {
   "cell_type": "code",
   "execution_count": 25,
   "metadata": {},
   "outputs": [
    {
     "name": "stdout",
     "output_type": "stream",
     "text": [
      "[[1 0 1]\n",
      " [1 1 0]]\n",
      "Maximum consecutive ones in the diagonals: 2\n"
     ]
    }
   ],
   "source": [
    "print(arr2d)\n",
    "print(\"Maximum consecutive ones in the diagonals:\",checkDiagonals(diags))"
   ]
  },
  {
   "cell_type": "markdown",
   "metadata": {},
   "source": [
    "For the anti-diagonals, the matrix can simply be flipped using numpy.fliplr(). A function, getAntiDiagonals(twoDimArr), is created to flip the matrix. In the function, the flipped matrix is used as input to the getDiagonals(twoDimArr) to retrieve the diagonals of the flipped matrix: "
   ]
  },
  {
   "cell_type": "code",
   "execution_count": 26,
   "metadata": {},
   "outputs": [],
   "source": [
    "def getAntiDiagonals(twoDimArr):\n",
    "    flipped = np.fliplr(twoDimArr)\n",
    "    flippedDiags = getDiagonals(flipped)\n",
    "    return flippedDiags\n"
   ]
  },
  {
   "cell_type": "markdown",
   "metadata": {},
   "source": [
    "Lets check this:"
   ]
  },
  {
   "cell_type": "code",
   "execution_count": 27,
   "metadata": {},
   "outputs": [
    {
     "name": "stdout",
     "output_type": "stream",
     "text": [
      "[[1 0 1]\n",
      " [1 1 0]]\n",
      "Anti-diagonals as numpy array: [array([0]), array([1, 1]), array([0, 1]), array([1])]\n"
     ]
    }
   ],
   "source": [
    "print(arr2d)\n",
    "print(\"Anti-diagonals as numpy array:\",getAntiDiagonals(arr2d))"
   ]
  },
  {
   "cell_type": "markdown",
   "metadata": {},
   "source": [
    "To check for consecutive ones in the anti-diagonals, a function checkAntiDiagonals(twoDimArr) is defined. The function combines the getAntiDiagonals(twoDimArr) function and the checkDiagonals(someDiags) function:"
   ]
  },
  {
   "cell_type": "code",
   "execution_count": 28,
   "metadata": {},
   "outputs": [],
   "source": [
    "def checkAntiDiagonals(twoDimArr):\n",
    "    someAntiDiags = getAntiDiagonals(twoDimArr)\n",
    "    maxOnesAntiDiag = checkDiagonals(someAntiDiags)\n",
    "    return maxOnesAntiDiag"
   ]
  },
  {
   "cell_type": "markdown",
   "metadata": {},
   "source": [
    "Lets test this: "
   ]
  },
  {
   "cell_type": "code",
   "execution_count": 29,
   "metadata": {},
   "outputs": [
    {
     "name": "stdout",
     "output_type": "stream",
     "text": [
      "[[1 0 1]\n",
      " [1 1 0]]\n",
      "Maximum consecutive ones in the anti-diagonal: 2\n"
     ]
    }
   ],
   "source": [
    "print(arr2d)\n",
    "print(\"Maximum consecutive ones in the anti-diagonal:\",checkAntiDiagonals(arr2d))"
   ]
  },
  {
   "cell_type": "markdown",
   "metadata": {},
   "source": [
    "Now I combine all of this together into one function: "
   ]
  },
  {
   "cell_type": "code",
   "execution_count": 30,
   "metadata": {},
   "outputs": [],
   "source": [
    "def maxNumberOfOnes(twoDimArray):\n",
    "    maxHorisontal = checkHorisontal(twoDimArray)\n",
    "    maxVertical = checkVertical(twoDimArray)\n",
    "    diagonals = getDiagonals(twoDimArray)\n",
    "    maxDiagonals = checkDiagonals(diagonals)\n",
    "    maxAntiDiagonals = checkAntiDiagonals(twoDimArray)\n",
    "    print(\"Max consecutive horisontal: \",maxHorisontal)\n",
    "    print(\"Max consecutive vertical: \",maxVertical)\n",
    "    print(\"Max consecutive diagonal: \",maxDiagonals)\n",
    "    print(\"Max consecutive anti-diagonal: \",maxAntiDiagonals)\n",
    "    ones = max(maxHorisontal, maxVertical, maxDiagonals, maxAntiDiagonals)\n",
    "    return \"Max consecutive: \" + str(ones)"
   ]
  },
  {
   "cell_type": "markdown",
   "metadata": {},
   "source": [
    "And lets try it together with the input function:"
   ]
  },
  {
   "cell_type": "code",
   "execution_count": 31,
   "metadata": {},
   "outputs": [
    {
     "name": "stdout",
     "output_type": "stream",
     "text": [
      "Hello! Let's generate a N x M matrix consisting of zeros and ones!\n",
      "Enter N: 3\n",
      "Enter M: 4\n",
      "[[0 0 1 1]\n",
      " [1 0 1 1]\n",
      " [1 0 1 0]]\n",
      "Max consecutive horisontal:  2\n",
      "Max consecutive vertical:  3\n",
      "Max consecutive diagonal:  2\n",
      "Max consecutive anti-diagonal:  2\n"
     ]
    },
    {
     "data": {
      "text/plain": [
       "'Max consecutive: 3'"
      ]
     },
     "execution_count": 31,
     "metadata": {},
     "output_type": "execute_result"
    }
   ],
   "source": [
    "userArray = createArray() #Try for example 3 and 4\n",
    "print(userArray)\n",
    "maxNumberOfOnes(userArray)"
   ]
  },
  {
   "cell_type": "markdown",
   "metadata": {},
   "source": [
    "And we see that this works well. Lets test for some other sizes just to be sure: "
   ]
  },
  {
   "cell_type": "code",
   "execution_count": 32,
   "metadata": {},
   "outputs": [
    {
     "name": "stdout",
     "output_type": "stream",
     "text": [
      "Hello! Let's generate a N x M matrix consisting of zeros and ones!\n",
      "Enter N: 6\n",
      "Enter M: 3\n",
      "[[1 0 0]\n",
      " [0 1 0]\n",
      " [1 0 0]\n",
      " [1 1 1]\n",
      " [1 1 0]\n",
      " [0 1 1]]\n",
      "Max consecutive horisontal:  3\n",
      "Max consecutive vertical:  0\n",
      "Max consecutive diagonal:  3\n",
      "Max consecutive anti-diagonal:  2\n",
      "Max consecutive: 3\n"
     ]
    }
   ],
   "source": [
    "userOtherArray = createArray() #Try for example 6 and 3\n",
    "print(userOtherArray)\n",
    "print(maxNumberOfOnes(userOtherArray))"
   ]
  },
  {
   "cell_type": "code",
   "execution_count": 34,
   "metadata": {},
   "outputs": [
    {
     "name": "stdout",
     "output_type": "stream",
     "text": [
      "Hello! Let's generate a N x M matrix consisting of zeros and ones!\n",
      "Enter N: 2\n",
      "Enter M: 5\n",
      "[[0 0 0 1 1]\n",
      " [0 0 0 0 1]]\n",
      "Max consecutive horisontal:  2\n",
      "Max consecutive vertical:  2\n",
      "Max consecutive diagonal:  2\n",
      "Max consecutive anti-diagonal:  1\n",
      "Max consecutive: 2\n"
     ]
    }
   ],
   "source": [
    "userAnotherArray = createArray() #Try for example 2 and 5\n",
    "print(userAnotherArray)\n",
    "print(maxNumberOfOnes(userAnotherArray))"
   ]
  },
  {
   "cell_type": "markdown",
   "metadata": {},
   "source": [
    "*** \n",
    "### Sources"
   ]
  },
  {
   "cell_type": "markdown",
   "metadata": {},
   "source": [
    "1. *Built-in Types*, The Python Standard Library. Accessed 17.09.2020 \\[online]. Available at: https://docs.python.org/3/library/stdtypes.html\n",
    "2. *Python ord(), Programiz.com. Accessed 18.09.2020 \\[online]. Available at: https://www.programiz.com/python-programming/methods/built-in/ord\n",
    "3. *itertools.groupby() in Python*, geeksforgeeeks.org, 30-01-2020. Accessed 22-09-2020 \\[online]. Available at: https://www.geeksforgeeks.org/itertools-groupby-in-python/\n",
    "4. *numpy.random.randint*, SciPy.org. Accessed 22-09-2020 \\[online]. Available at: https://docs.scipy.org/doc/numpy-1.15.1/reference/generated/numpy.random.randint.html\n",
    "5. *numpy.diagonal*, NumPy.org. Accessed 22-09-2020 \\[online]. Available at: https://numpy.org/doc/stable/reference/generated/numpy.diagonal.html"
   ]
  }
 ],
 "metadata": {
  "kernelspec": {
   "display_name": "Python 3",
   "language": "python",
   "name": "python3"
  },
  "language_info": {
   "codemirror_mode": {
    "name": "ipython",
    "version": 3
   },
   "file_extension": ".py",
   "mimetype": "text/x-python",
   "name": "python",
   "nbconvert_exporter": "python",
   "pygments_lexer": "ipython3",
   "version": "3.7.9"
  }
 },
 "nbformat": 4,
 "nbformat_minor": 4
}
