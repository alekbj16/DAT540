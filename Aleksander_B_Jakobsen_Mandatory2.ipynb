{
 "cells": [
  {
   "cell_type": "markdown",
   "metadata": {},
   "source": [
    "# Assigment 2 - Pandas\n",
    "# DAT540 - Introduction to Data Science\n",
    "### Aleksander B. Jakobsen (236227)\n",
    "### University of Stavanger\n",
    "### Fall 2020"
   ]
  },
  {
   "cell_type": "markdown",
   "metadata": {},
   "source": [
    "Download the dataset.tsv file from the canvas.\n",
    "### 1. Import the libraries"
   ]
  },
  {
   "cell_type": "code",
   "execution_count": 1,
   "metadata": {},
   "outputs": [],
   "source": [
    "import pandas as pd\n",
    "import matplotlib.pyplot as plt\n",
    "import numpy as np\n",
    "plt.style.use('ggplot')\n"
   ]
  },
  {
   "cell_type": "markdown",
   "metadata": {},
   "source": [
    "### 2. Import the dataset"
   ]
  },
  {
   "cell_type": "code",
   "execution_count": 2,
   "metadata": {},
   "outputs": [
    {
     "data": {
      "text/html": [
       "<div>\n",
       "<style scoped>\n",
       "    .dataframe tbody tr th:only-of-type {\n",
       "        vertical-align: middle;\n",
       "    }\n",
       "\n",
       "    .dataframe tbody tr th {\n",
       "        vertical-align: top;\n",
       "    }\n",
       "\n",
       "    .dataframe thead th {\n",
       "        text-align: right;\n",
       "    }\n",
       "</style>\n",
       "<table border=\"1\" class=\"dataframe\">\n",
       "  <thead>\n",
       "    <tr style=\"text-align: right;\">\n",
       "      <th></th>\n",
       "      <th>order_id</th>\n",
       "      <th>quantity</th>\n",
       "      <th>product_name</th>\n",
       "      <th>option_description</th>\n",
       "      <th>product_price</th>\n",
       "    </tr>\n",
       "  </thead>\n",
       "  <tbody>\n",
       "    <tr>\n",
       "      <th>0</th>\n",
       "      <td>1</td>\n",
       "      <td>1</td>\n",
       "      <td>Chips and Fresh Tomato Salsa</td>\n",
       "      <td>NaN</td>\n",
       "      <td>$2.39</td>\n",
       "    </tr>\n",
       "    <tr>\n",
       "      <th>1</th>\n",
       "      <td>1</td>\n",
       "      <td>1</td>\n",
       "      <td>Izze</td>\n",
       "      <td>[Clementine]</td>\n",
       "      <td>$3.39</td>\n",
       "    </tr>\n",
       "    <tr>\n",
       "      <th>2</th>\n",
       "      <td>1</td>\n",
       "      <td>1</td>\n",
       "      <td>Nantucket Nectar</td>\n",
       "      <td>[Apple]</td>\n",
       "      <td>$3.39</td>\n",
       "    </tr>\n",
       "    <tr>\n",
       "      <th>3</th>\n",
       "      <td>1</td>\n",
       "      <td>1</td>\n",
       "      <td>Chips and Tomatillo-Green Chili Salsa</td>\n",
       "      <td>NaN</td>\n",
       "      <td>$2.39</td>\n",
       "    </tr>\n",
       "    <tr>\n",
       "      <th>4</th>\n",
       "      <td>2</td>\n",
       "      <td>2</td>\n",
       "      <td>Chicken Bowl</td>\n",
       "      <td>[Tomatillo-Red Chili Salsa (Hot), [Black Beans...</td>\n",
       "      <td>$16.98</td>\n",
       "    </tr>\n",
       "    <tr>\n",
       "      <th>...</th>\n",
       "      <td>...</td>\n",
       "      <td>...</td>\n",
       "      <td>...</td>\n",
       "      <td>...</td>\n",
       "      <td>...</td>\n",
       "    </tr>\n",
       "    <tr>\n",
       "      <th>4617</th>\n",
       "      <td>1833</td>\n",
       "      <td>1</td>\n",
       "      <td>Steak Burrito</td>\n",
       "      <td>[Fresh Tomato Salsa, [Rice, Black Beans, Sour ...</td>\n",
       "      <td>$11.75</td>\n",
       "    </tr>\n",
       "    <tr>\n",
       "      <th>4618</th>\n",
       "      <td>1833</td>\n",
       "      <td>1</td>\n",
       "      <td>Steak Burrito</td>\n",
       "      <td>[Fresh Tomato Salsa, [Rice, Sour Cream, Cheese...</td>\n",
       "      <td>$11.75</td>\n",
       "    </tr>\n",
       "    <tr>\n",
       "      <th>4619</th>\n",
       "      <td>1834</td>\n",
       "      <td>1</td>\n",
       "      <td>Chicken Salad Bowl</td>\n",
       "      <td>[Fresh Tomato Salsa, [Fajita Vegetables, Pinto...</td>\n",
       "      <td>$11.25</td>\n",
       "    </tr>\n",
       "    <tr>\n",
       "      <th>4620</th>\n",
       "      <td>1834</td>\n",
       "      <td>1</td>\n",
       "      <td>Chicken Salad Bowl</td>\n",
       "      <td>[Fresh Tomato Salsa, [Fajita Vegetables, Lettu...</td>\n",
       "      <td>$8.75</td>\n",
       "    </tr>\n",
       "    <tr>\n",
       "      <th>4621</th>\n",
       "      <td>1834</td>\n",
       "      <td>1</td>\n",
       "      <td>Chicken Salad Bowl</td>\n",
       "      <td>[Fresh Tomato Salsa, [Fajita Vegetables, Pinto...</td>\n",
       "      <td>$8.75</td>\n",
       "    </tr>\n",
       "  </tbody>\n",
       "</table>\n",
       "<p>4622 rows × 5 columns</p>\n",
       "</div>"
      ],
      "text/plain": [
       "      order_id  quantity                           product_name  \\\n",
       "0            1         1           Chips and Fresh Tomato Salsa   \n",
       "1            1         1                                   Izze   \n",
       "2            1         1                       Nantucket Nectar   \n",
       "3            1         1  Chips and Tomatillo-Green Chili Salsa   \n",
       "4            2         2                           Chicken Bowl   \n",
       "...        ...       ...                                    ...   \n",
       "4617      1833         1                          Steak Burrito   \n",
       "4618      1833         1                          Steak Burrito   \n",
       "4619      1834         1                     Chicken Salad Bowl   \n",
       "4620      1834         1                     Chicken Salad Bowl   \n",
       "4621      1834         1                     Chicken Salad Bowl   \n",
       "\n",
       "                                     option_description product_price  \n",
       "0                                                   NaN        $2.39   \n",
       "1                                          [Clementine]        $3.39   \n",
       "2                                               [Apple]        $3.39   \n",
       "3                                                   NaN        $2.39   \n",
       "4     [Tomatillo-Red Chili Salsa (Hot), [Black Beans...       $16.98   \n",
       "...                                                 ...           ...  \n",
       "4617  [Fresh Tomato Salsa, [Rice, Black Beans, Sour ...       $11.75   \n",
       "4618  [Fresh Tomato Salsa, [Rice, Sour Cream, Cheese...       $11.75   \n",
       "4619  [Fresh Tomato Salsa, [Fajita Vegetables, Pinto...       $11.25   \n",
       "4620  [Fresh Tomato Salsa, [Fajita Vegetables, Lettu...        $8.75   \n",
       "4621  [Fresh Tomato Salsa, [Fajita Vegetables, Pinto...        $8.75   \n",
       "\n",
       "[4622 rows x 5 columns]"
      ]
     },
     "execution_count": 2,
     "metadata": {},
     "output_type": "execute_result"
    }
   ],
   "source": [
    "data = pd.read_table(\"dataset.tsv\")\n",
    "data"
   ]
  },
  {
   "cell_type": "markdown",
   "metadata": {},
   "source": [
    "### 3. Print the first 50 entries"
   ]
  },
  {
   "cell_type": "code",
   "execution_count": 3,
   "metadata": {},
   "outputs": [
    {
     "data": {
      "text/html": [
       "<div>\n",
       "<style scoped>\n",
       "    .dataframe tbody tr th:only-of-type {\n",
       "        vertical-align: middle;\n",
       "    }\n",
       "\n",
       "    .dataframe tbody tr th {\n",
       "        vertical-align: top;\n",
       "    }\n",
       "\n",
       "    .dataframe thead th {\n",
       "        text-align: right;\n",
       "    }\n",
       "</style>\n",
       "<table border=\"1\" class=\"dataframe\">\n",
       "  <thead>\n",
       "    <tr style=\"text-align: right;\">\n",
       "      <th></th>\n",
       "      <th>order_id</th>\n",
       "      <th>quantity</th>\n",
       "      <th>product_name</th>\n",
       "      <th>option_description</th>\n",
       "      <th>product_price</th>\n",
       "    </tr>\n",
       "  </thead>\n",
       "  <tbody>\n",
       "    <tr>\n",
       "      <th>0</th>\n",
       "      <td>1</td>\n",
       "      <td>1</td>\n",
       "      <td>Chips and Fresh Tomato Salsa</td>\n",
       "      <td>NaN</td>\n",
       "      <td>$2.39</td>\n",
       "    </tr>\n",
       "    <tr>\n",
       "      <th>1</th>\n",
       "      <td>1</td>\n",
       "      <td>1</td>\n",
       "      <td>Izze</td>\n",
       "      <td>[Clementine]</td>\n",
       "      <td>$3.39</td>\n",
       "    </tr>\n",
       "    <tr>\n",
       "      <th>2</th>\n",
       "      <td>1</td>\n",
       "      <td>1</td>\n",
       "      <td>Nantucket Nectar</td>\n",
       "      <td>[Apple]</td>\n",
       "      <td>$3.39</td>\n",
       "    </tr>\n",
       "    <tr>\n",
       "      <th>3</th>\n",
       "      <td>1</td>\n",
       "      <td>1</td>\n",
       "      <td>Chips and Tomatillo-Green Chili Salsa</td>\n",
       "      <td>NaN</td>\n",
       "      <td>$2.39</td>\n",
       "    </tr>\n",
       "    <tr>\n",
       "      <th>4</th>\n",
       "      <td>2</td>\n",
       "      <td>2</td>\n",
       "      <td>Chicken Bowl</td>\n",
       "      <td>[Tomatillo-Red Chili Salsa (Hot), [Black Beans...</td>\n",
       "      <td>$16.98</td>\n",
       "    </tr>\n",
       "    <tr>\n",
       "      <th>5</th>\n",
       "      <td>3</td>\n",
       "      <td>1</td>\n",
       "      <td>Chicken Bowl</td>\n",
       "      <td>[Fresh Tomato Salsa (Mild), [Rice, Cheese, Sou...</td>\n",
       "      <td>$10.98</td>\n",
       "    </tr>\n",
       "    <tr>\n",
       "      <th>6</th>\n",
       "      <td>3</td>\n",
       "      <td>1</td>\n",
       "      <td>Side of Chips</td>\n",
       "      <td>NaN</td>\n",
       "      <td>$1.69</td>\n",
       "    </tr>\n",
       "    <tr>\n",
       "      <th>7</th>\n",
       "      <td>4</td>\n",
       "      <td>1</td>\n",
       "      <td>Steak Burrito</td>\n",
       "      <td>[Tomatillo Red Chili Salsa, [Fajita Vegetables...</td>\n",
       "      <td>$11.75</td>\n",
       "    </tr>\n",
       "    <tr>\n",
       "      <th>8</th>\n",
       "      <td>4</td>\n",
       "      <td>1</td>\n",
       "      <td>Steak Soft Tacos</td>\n",
       "      <td>[Tomatillo Green Chili Salsa, [Pinto Beans, Ch...</td>\n",
       "      <td>$9.25</td>\n",
       "    </tr>\n",
       "    <tr>\n",
       "      <th>9</th>\n",
       "      <td>5</td>\n",
       "      <td>1</td>\n",
       "      <td>Steak Burrito</td>\n",
       "      <td>[Fresh Tomato Salsa, [Rice, Black Beans, Pinto...</td>\n",
       "      <td>$9.25</td>\n",
       "    </tr>\n",
       "    <tr>\n",
       "      <th>10</th>\n",
       "      <td>5</td>\n",
       "      <td>1</td>\n",
       "      <td>Chips and Guacamole</td>\n",
       "      <td>NaN</td>\n",
       "      <td>$4.45</td>\n",
       "    </tr>\n",
       "    <tr>\n",
       "      <th>11</th>\n",
       "      <td>6</td>\n",
       "      <td>1</td>\n",
       "      <td>Chicken Crispy Tacos</td>\n",
       "      <td>[Roasted Chili Corn Salsa, [Fajita Vegetables,...</td>\n",
       "      <td>$8.75</td>\n",
       "    </tr>\n",
       "    <tr>\n",
       "      <th>12</th>\n",
       "      <td>6</td>\n",
       "      <td>1</td>\n",
       "      <td>Chicken Soft Tacos</td>\n",
       "      <td>[Roasted Chili Corn Salsa, [Rice, Black Beans,...</td>\n",
       "      <td>$8.75</td>\n",
       "    </tr>\n",
       "    <tr>\n",
       "      <th>13</th>\n",
       "      <td>7</td>\n",
       "      <td>1</td>\n",
       "      <td>Chicken Bowl</td>\n",
       "      <td>[Fresh Tomato Salsa, [Fajita Vegetables, Rice,...</td>\n",
       "      <td>$11.25</td>\n",
       "    </tr>\n",
       "    <tr>\n",
       "      <th>14</th>\n",
       "      <td>7</td>\n",
       "      <td>1</td>\n",
       "      <td>Chips and Guacamole</td>\n",
       "      <td>NaN</td>\n",
       "      <td>$4.45</td>\n",
       "    </tr>\n",
       "    <tr>\n",
       "      <th>15</th>\n",
       "      <td>8</td>\n",
       "      <td>1</td>\n",
       "      <td>Chips and Tomatillo-Green Chili Salsa</td>\n",
       "      <td>NaN</td>\n",
       "      <td>$2.39</td>\n",
       "    </tr>\n",
       "    <tr>\n",
       "      <th>16</th>\n",
       "      <td>8</td>\n",
       "      <td>1</td>\n",
       "      <td>Chicken Burrito</td>\n",
       "      <td>[Tomatillo-Green Chili Salsa (Medium), [Pinto ...</td>\n",
       "      <td>$8.49</td>\n",
       "    </tr>\n",
       "    <tr>\n",
       "      <th>17</th>\n",
       "      <td>9</td>\n",
       "      <td>1</td>\n",
       "      <td>Chicken Burrito</td>\n",
       "      <td>[Fresh Tomato Salsa (Mild), [Black Beans, Rice...</td>\n",
       "      <td>$8.49</td>\n",
       "    </tr>\n",
       "    <tr>\n",
       "      <th>18</th>\n",
       "      <td>9</td>\n",
       "      <td>2</td>\n",
       "      <td>Canned Soda</td>\n",
       "      <td>[Sprite]</td>\n",
       "      <td>$2.18</td>\n",
       "    </tr>\n",
       "    <tr>\n",
       "      <th>19</th>\n",
       "      <td>10</td>\n",
       "      <td>1</td>\n",
       "      <td>Chicken Bowl</td>\n",
       "      <td>[Tomatillo Red Chili Salsa, [Fajita Vegetables...</td>\n",
       "      <td>$8.75</td>\n",
       "    </tr>\n",
       "    <tr>\n",
       "      <th>20</th>\n",
       "      <td>10</td>\n",
       "      <td>1</td>\n",
       "      <td>Chips and Guacamole</td>\n",
       "      <td>NaN</td>\n",
       "      <td>$4.45</td>\n",
       "    </tr>\n",
       "    <tr>\n",
       "      <th>21</th>\n",
       "      <td>11</td>\n",
       "      <td>1</td>\n",
       "      <td>Barbacoa Burrito</td>\n",
       "      <td>[[Fresh Tomato Salsa (Mild), Tomatillo-Green C...</td>\n",
       "      <td>$8.99</td>\n",
       "    </tr>\n",
       "    <tr>\n",
       "      <th>22</th>\n",
       "      <td>11</td>\n",
       "      <td>1</td>\n",
       "      <td>Nantucket Nectar</td>\n",
       "      <td>[Pomegranate Cherry]</td>\n",
       "      <td>$3.39</td>\n",
       "    </tr>\n",
       "    <tr>\n",
       "      <th>23</th>\n",
       "      <td>12</td>\n",
       "      <td>1</td>\n",
       "      <td>Chicken Burrito</td>\n",
       "      <td>[[Tomatillo-Green Chili Salsa (Medium), Tomati...</td>\n",
       "      <td>$10.98</td>\n",
       "    </tr>\n",
       "    <tr>\n",
       "      <th>24</th>\n",
       "      <td>12</td>\n",
       "      <td>1</td>\n",
       "      <td>Izze</td>\n",
       "      <td>[Grapefruit]</td>\n",
       "      <td>$3.39</td>\n",
       "    </tr>\n",
       "    <tr>\n",
       "      <th>25</th>\n",
       "      <td>13</td>\n",
       "      <td>1</td>\n",
       "      <td>Chips and Fresh Tomato Salsa</td>\n",
       "      <td>NaN</td>\n",
       "      <td>$2.39</td>\n",
       "    </tr>\n",
       "    <tr>\n",
       "      <th>26</th>\n",
       "      <td>13</td>\n",
       "      <td>1</td>\n",
       "      <td>Chicken Bowl</td>\n",
       "      <td>[Roasted Chili Corn Salsa (Medium), [Pinto Bea...</td>\n",
       "      <td>$8.49</td>\n",
       "    </tr>\n",
       "    <tr>\n",
       "      <th>27</th>\n",
       "      <td>14</td>\n",
       "      <td>1</td>\n",
       "      <td>Carnitas Burrito</td>\n",
       "      <td>[[Tomatillo-Green Chili Salsa (Medium), Roaste...</td>\n",
       "      <td>$8.99</td>\n",
       "    </tr>\n",
       "    <tr>\n",
       "      <th>28</th>\n",
       "      <td>14</td>\n",
       "      <td>1</td>\n",
       "      <td>Canned Soda</td>\n",
       "      <td>[Dr. Pepper]</td>\n",
       "      <td>$1.09</td>\n",
       "    </tr>\n",
       "    <tr>\n",
       "      <th>29</th>\n",
       "      <td>15</td>\n",
       "      <td>1</td>\n",
       "      <td>Chicken Burrito</td>\n",
       "      <td>[Tomatillo-Green Chili Salsa (Medium), [Pinto ...</td>\n",
       "      <td>$8.49</td>\n",
       "    </tr>\n",
       "    <tr>\n",
       "      <th>30</th>\n",
       "      <td>15</td>\n",
       "      <td>1</td>\n",
       "      <td>Chips and Tomatillo-Green Chili Salsa</td>\n",
       "      <td>NaN</td>\n",
       "      <td>$2.39</td>\n",
       "    </tr>\n",
       "    <tr>\n",
       "      <th>31</th>\n",
       "      <td>16</td>\n",
       "      <td>1</td>\n",
       "      <td>Steak Burrito</td>\n",
       "      <td>[[Roasted Chili Corn Salsa (Medium), Fresh Tom...</td>\n",
       "      <td>$8.99</td>\n",
       "    </tr>\n",
       "    <tr>\n",
       "      <th>32</th>\n",
       "      <td>16</td>\n",
       "      <td>1</td>\n",
       "      <td>Side of Chips</td>\n",
       "      <td>NaN</td>\n",
       "      <td>$1.69</td>\n",
       "    </tr>\n",
       "    <tr>\n",
       "      <th>33</th>\n",
       "      <td>17</td>\n",
       "      <td>1</td>\n",
       "      <td>Carnitas Bowl</td>\n",
       "      <td>[Tomatillo-Red Chili Salsa (Hot), [Black Beans...</td>\n",
       "      <td>$8.99</td>\n",
       "    </tr>\n",
       "    <tr>\n",
       "      <th>34</th>\n",
       "      <td>17</td>\n",
       "      <td>1</td>\n",
       "      <td>Bottled Water</td>\n",
       "      <td>NaN</td>\n",
       "      <td>$1.09</td>\n",
       "    </tr>\n",
       "    <tr>\n",
       "      <th>35</th>\n",
       "      <td>18</td>\n",
       "      <td>1</td>\n",
       "      <td>Chicken Soft Tacos</td>\n",
       "      <td>[Roasted Chili Corn Salsa, Rice]</td>\n",
       "      <td>$8.75</td>\n",
       "    </tr>\n",
       "    <tr>\n",
       "      <th>36</th>\n",
       "      <td>18</td>\n",
       "      <td>1</td>\n",
       "      <td>Chicken Soft Tacos</td>\n",
       "      <td>[Roasted Chili Corn Salsa, [Cheese, Lettuce]]</td>\n",
       "      <td>$8.75</td>\n",
       "    </tr>\n",
       "    <tr>\n",
       "      <th>37</th>\n",
       "      <td>18</td>\n",
       "      <td>1</td>\n",
       "      <td>Chips and Guacamole</td>\n",
       "      <td>NaN</td>\n",
       "      <td>$4.45</td>\n",
       "    </tr>\n",
       "    <tr>\n",
       "      <th>38</th>\n",
       "      <td>18</td>\n",
       "      <td>1</td>\n",
       "      <td>Chips and Tomatillo Green Chili Salsa</td>\n",
       "      <td>NaN</td>\n",
       "      <td>$2.95</td>\n",
       "    </tr>\n",
       "    <tr>\n",
       "      <th>39</th>\n",
       "      <td>19</td>\n",
       "      <td>1</td>\n",
       "      <td>Barbacoa Bowl</td>\n",
       "      <td>[Roasted Chili Corn Salsa, [Fajita Vegetables,...</td>\n",
       "      <td>$11.75</td>\n",
       "    </tr>\n",
       "    <tr>\n",
       "      <th>40</th>\n",
       "      <td>19</td>\n",
       "      <td>1</td>\n",
       "      <td>Chips</td>\n",
       "      <td>NaN</td>\n",
       "      <td>$2.15</td>\n",
       "    </tr>\n",
       "    <tr>\n",
       "      <th>41</th>\n",
       "      <td>20</td>\n",
       "      <td>1</td>\n",
       "      <td>Chips and Guacamole</td>\n",
       "      <td>NaN</td>\n",
       "      <td>$4.45</td>\n",
       "    </tr>\n",
       "    <tr>\n",
       "      <th>42</th>\n",
       "      <td>20</td>\n",
       "      <td>1</td>\n",
       "      <td>Chicken Bowl</td>\n",
       "      <td>[Roasted Chili Corn Salsa, [Rice, Black Beans,...</td>\n",
       "      <td>$11.25</td>\n",
       "    </tr>\n",
       "    <tr>\n",
       "      <th>43</th>\n",
       "      <td>20</td>\n",
       "      <td>1</td>\n",
       "      <td>Steak Burrito</td>\n",
       "      <td>[Fresh Tomato Salsa, [Rice, Pinto Beans, Chees...</td>\n",
       "      <td>$11.75</td>\n",
       "    </tr>\n",
       "    <tr>\n",
       "      <th>44</th>\n",
       "      <td>20</td>\n",
       "      <td>1</td>\n",
       "      <td>Chicken Salad Bowl</td>\n",
       "      <td>[Fresh Tomato Salsa, [Fajita Vegetables, Pinto...</td>\n",
       "      <td>$8.75</td>\n",
       "    </tr>\n",
       "    <tr>\n",
       "      <th>45</th>\n",
       "      <td>21</td>\n",
       "      <td>1</td>\n",
       "      <td>Chicken Burrito</td>\n",
       "      <td>[Tomatillo-Red Chili Salsa (Hot), [Black Beans...</td>\n",
       "      <td>$10.98</td>\n",
       "    </tr>\n",
       "    <tr>\n",
       "      <th>46</th>\n",
       "      <td>21</td>\n",
       "      <td>1</td>\n",
       "      <td>Steak Burrito</td>\n",
       "      <td>[Tomatillo-Red Chili Salsa (Hot), [Rice, Fajit...</td>\n",
       "      <td>$8.99</td>\n",
       "    </tr>\n",
       "    <tr>\n",
       "      <th>47</th>\n",
       "      <td>21</td>\n",
       "      <td>1</td>\n",
       "      <td>Izze</td>\n",
       "      <td>[Blackberry]</td>\n",
       "      <td>$3.39</td>\n",
       "    </tr>\n",
       "    <tr>\n",
       "      <th>48</th>\n",
       "      <td>22</td>\n",
       "      <td>1</td>\n",
       "      <td>Steak Burrito</td>\n",
       "      <td>[[Fresh Tomato Salsa (Mild), Roasted Chili Cor...</td>\n",
       "      <td>$8.99</td>\n",
       "    </tr>\n",
       "    <tr>\n",
       "      <th>49</th>\n",
       "      <td>22</td>\n",
       "      <td>1</td>\n",
       "      <td>Chips and Guacamole</td>\n",
       "      <td>NaN</td>\n",
       "      <td>$3.99</td>\n",
       "    </tr>\n",
       "  </tbody>\n",
       "</table>\n",
       "</div>"
      ],
      "text/plain": [
       "    order_id  quantity                           product_name  \\\n",
       "0          1         1           Chips and Fresh Tomato Salsa   \n",
       "1          1         1                                   Izze   \n",
       "2          1         1                       Nantucket Nectar   \n",
       "3          1         1  Chips and Tomatillo-Green Chili Salsa   \n",
       "4          2         2                           Chicken Bowl   \n",
       "5          3         1                           Chicken Bowl   \n",
       "6          3         1                          Side of Chips   \n",
       "7          4         1                          Steak Burrito   \n",
       "8          4         1                       Steak Soft Tacos   \n",
       "9          5         1                          Steak Burrito   \n",
       "10         5         1                    Chips and Guacamole   \n",
       "11         6         1                   Chicken Crispy Tacos   \n",
       "12         6         1                     Chicken Soft Tacos   \n",
       "13         7         1                           Chicken Bowl   \n",
       "14         7         1                    Chips and Guacamole   \n",
       "15         8         1  Chips and Tomatillo-Green Chili Salsa   \n",
       "16         8         1                        Chicken Burrito   \n",
       "17         9         1                        Chicken Burrito   \n",
       "18         9         2                            Canned Soda   \n",
       "19        10         1                           Chicken Bowl   \n",
       "20        10         1                    Chips and Guacamole   \n",
       "21        11         1                       Barbacoa Burrito   \n",
       "22        11         1                       Nantucket Nectar   \n",
       "23        12         1                        Chicken Burrito   \n",
       "24        12         1                                   Izze   \n",
       "25        13         1           Chips and Fresh Tomato Salsa   \n",
       "26        13         1                           Chicken Bowl   \n",
       "27        14         1                       Carnitas Burrito   \n",
       "28        14         1                            Canned Soda   \n",
       "29        15         1                        Chicken Burrito   \n",
       "30        15         1  Chips and Tomatillo-Green Chili Salsa   \n",
       "31        16         1                          Steak Burrito   \n",
       "32        16         1                          Side of Chips   \n",
       "33        17         1                          Carnitas Bowl   \n",
       "34        17         1                          Bottled Water   \n",
       "35        18         1                     Chicken Soft Tacos   \n",
       "36        18         1                     Chicken Soft Tacos   \n",
       "37        18         1                    Chips and Guacamole   \n",
       "38        18         1  Chips and Tomatillo Green Chili Salsa   \n",
       "39        19         1                          Barbacoa Bowl   \n",
       "40        19         1                                  Chips   \n",
       "41        20         1                    Chips and Guacamole   \n",
       "42        20         1                           Chicken Bowl   \n",
       "43        20         1                          Steak Burrito   \n",
       "44        20         1                     Chicken Salad Bowl   \n",
       "45        21         1                        Chicken Burrito   \n",
       "46        21         1                          Steak Burrito   \n",
       "47        21         1                                   Izze   \n",
       "48        22         1                          Steak Burrito   \n",
       "49        22         1                    Chips and Guacamole   \n",
       "\n",
       "                                   option_description product_price  \n",
       "0                                                 NaN        $2.39   \n",
       "1                                        [Clementine]        $3.39   \n",
       "2                                             [Apple]        $3.39   \n",
       "3                                                 NaN        $2.39   \n",
       "4   [Tomatillo-Red Chili Salsa (Hot), [Black Beans...       $16.98   \n",
       "5   [Fresh Tomato Salsa (Mild), [Rice, Cheese, Sou...       $10.98   \n",
       "6                                                 NaN        $1.69   \n",
       "7   [Tomatillo Red Chili Salsa, [Fajita Vegetables...       $11.75   \n",
       "8   [Tomatillo Green Chili Salsa, [Pinto Beans, Ch...        $9.25   \n",
       "9   [Fresh Tomato Salsa, [Rice, Black Beans, Pinto...        $9.25   \n",
       "10                                                NaN        $4.45   \n",
       "11  [Roasted Chili Corn Salsa, [Fajita Vegetables,...        $8.75   \n",
       "12  [Roasted Chili Corn Salsa, [Rice, Black Beans,...        $8.75   \n",
       "13  [Fresh Tomato Salsa, [Fajita Vegetables, Rice,...       $11.25   \n",
       "14                                                NaN        $4.45   \n",
       "15                                                NaN        $2.39   \n",
       "16  [Tomatillo-Green Chili Salsa (Medium), [Pinto ...        $8.49   \n",
       "17  [Fresh Tomato Salsa (Mild), [Black Beans, Rice...        $8.49   \n",
       "18                                           [Sprite]        $2.18   \n",
       "19  [Tomatillo Red Chili Salsa, [Fajita Vegetables...        $8.75   \n",
       "20                                                NaN        $4.45   \n",
       "21  [[Fresh Tomato Salsa (Mild), Tomatillo-Green C...        $8.99   \n",
       "22                               [Pomegranate Cherry]        $3.39   \n",
       "23  [[Tomatillo-Green Chili Salsa (Medium), Tomati...       $10.98   \n",
       "24                                       [Grapefruit]        $3.39   \n",
       "25                                                NaN        $2.39   \n",
       "26  [Roasted Chili Corn Salsa (Medium), [Pinto Bea...        $8.49   \n",
       "27  [[Tomatillo-Green Chili Salsa (Medium), Roaste...        $8.99   \n",
       "28                                       [Dr. Pepper]        $1.09   \n",
       "29  [Tomatillo-Green Chili Salsa (Medium), [Pinto ...        $8.49   \n",
       "30                                                NaN        $2.39   \n",
       "31  [[Roasted Chili Corn Salsa (Medium), Fresh Tom...        $8.99   \n",
       "32                                                NaN        $1.69   \n",
       "33  [Tomatillo-Red Chili Salsa (Hot), [Black Beans...        $8.99   \n",
       "34                                                NaN        $1.09   \n",
       "35                   [Roasted Chili Corn Salsa, Rice]        $8.75   \n",
       "36      [Roasted Chili Corn Salsa, [Cheese, Lettuce]]        $8.75   \n",
       "37                                                NaN        $4.45   \n",
       "38                                                NaN        $2.95   \n",
       "39  [Roasted Chili Corn Salsa, [Fajita Vegetables,...       $11.75   \n",
       "40                                                NaN        $2.15   \n",
       "41                                                NaN        $4.45   \n",
       "42  [Roasted Chili Corn Salsa, [Rice, Black Beans,...       $11.25   \n",
       "43  [Fresh Tomato Salsa, [Rice, Pinto Beans, Chees...       $11.75   \n",
       "44  [Fresh Tomato Salsa, [Fajita Vegetables, Pinto...        $8.75   \n",
       "45  [Tomatillo-Red Chili Salsa (Hot), [Black Beans...       $10.98   \n",
       "46  [Tomatillo-Red Chili Salsa (Hot), [Rice, Fajit...        $8.99   \n",
       "47                                       [Blackberry]        $3.39   \n",
       "48  [[Fresh Tomato Salsa (Mild), Roasted Chili Cor...        $8.99   \n",
       "49                                                NaN        $3.99   "
      ]
     },
     "execution_count": 3,
     "metadata": {},
     "output_type": "execute_result"
    }
   ],
   "source": [
    "data[:50]"
   ]
  },
  {
   "cell_type": "markdown",
   "metadata": {},
   "source": [
    "### 4. Print the number of datapoints (rows) in the dataset?"
   ]
  },
  {
   "cell_type": "code",
   "execution_count": 4,
   "metadata": {},
   "outputs": [
    {
     "name": "stdout",
     "output_type": "stream",
     "text": [
      "Number of datapoints (rows) 4622\n"
     ]
    }
   ],
   "source": [
    "print(\"Number of datapoints (rows)\", data.shape[0])"
   ]
  },
  {
   "cell_type": "markdown",
   "metadata": {},
   "source": [
    "### 5. Print the number of columns in the dataset?"
   ]
  },
  {
   "cell_type": "code",
   "execution_count": 5,
   "metadata": {},
   "outputs": [
    {
     "name": "stdout",
     "output_type": "stream",
     "text": [
      "Number of columns: 5\n"
     ]
    }
   ],
   "source": [
    "print(\"Number of columns:\",data.shape[1])"
   ]
  },
  {
   "cell_type": "markdown",
   "metadata": {},
   "source": [
    "###  7. Print the names of columns."
   ]
  },
  {
   "cell_type": "code",
   "execution_count": 6,
   "metadata": {},
   "outputs": [
    {
     "name": "stdout",
     "output_type": "stream",
     "text": [
      "Column names:\n",
      "order_id, quantity, product_name, option_description, product_price\n"
     ]
    }
   ],
   "source": [
    "print(\"Column names:\")\n",
    "column_names = list(data.columns)\n",
    "print(str(column_names).replace(\"[\",\"\").replace(\"'\",\"\").replace(\"]\",\"\"))"
   ]
  },
  {
   "cell_type": "markdown",
   "metadata": {},
   "source": [
    "### 8. Print the most ordered product and it's count?\n",
    "#### You have to only consider \"product_name\" column for this.\n",
    "#### Count should reflect, for how many times the product was ordered across all the orders"
   ]
  },
  {
   "cell_type": "code",
   "execution_count": 7,
   "metadata": {},
   "outputs": [
    {
     "name": "stdout",
     "output_type": "stream",
     "text": [
      "Most ordered product and its count: \n",
      "Product name: Chicken Bowl\n",
      "Product count: 761\n"
     ]
    }
   ],
   "source": [
    "#Source: https://pandas.pydata.org/pandas-docs/stable/reference/api/pandas.DataFrame.mode.html\n",
    "\n",
    "#https://pandas.pydata.org/pandas-docs/stable/reference/api/pandas.Series.value_counts.html\n",
    "\n",
    "print(\"Most ordered product and its count: \")\n",
    "product_name = data[\"product_name\"].mode()[0]\n",
    "print(\"Product name:\",product_name)\n",
    "\n",
    "\n",
    "\n",
    "#How many times is it ordered? Need to account order quantity\n",
    "occurence = data.loc[data[\"product_name\"] == product_name,\"quantity\"].sum()\n",
    "print(\"Product count:\",occurence)"
   ]
  },
  {
   "cell_type": "markdown",
   "metadata": {},
   "source": [
    "### 9. Print the number of orders in total?\n",
    "#### tip: Number of unique order_ids"
   ]
  },
  {
   "cell_type": "code",
   "execution_count": 8,
   "metadata": {},
   "outputs": [
    {
     "name": "stdout",
     "output_type": "stream",
     "text": [
      "Number of orders in total:  1834\n"
     ]
    }
   ],
   "source": [
    "total_orders = data[\"order_id\"].max()\n",
    "print(\"Number of orders in total: \",total_orders)"
   ]
  },
  {
   "cell_type": "markdown",
   "metadata": {},
   "source": [
    "### 10. Print the most ordered product in the option_description column?\n",
    "#### Only non NaN etries should are considered"
   ]
  },
  {
   "cell_type": "code",
   "execution_count": 9,
   "metadata": {},
   "outputs": [
    {
     "name": "stdout",
     "output_type": "stream",
     "text": [
      "      0\n",
      "0  Rice\n"
     ]
    }
   ],
   "source": [
    "option_descriptions = data.option_description.dropna() #Drop cells without information\n",
    "option_descriptions = option_descriptions.T.tolist() #Transpose column to list\n",
    "\n",
    "\n",
    "option_data = pd.DataFrame() #Create new dataframe\n",
    "#Add values to new dataframe\n",
    "for i in range(0,len(option_descriptions)):\n",
    "    a = option_descriptions[i].replace(\"[\",\"\")\n",
    "    b = a.replace(\"]\",\"\")\n",
    "    c = b.split(', ')\n",
    "    option_data = option_data.append(c)\n",
    "\n",
    "#Identify most occured item\n",
    "print(option_data.mode())"
   ]
  },
  {
   "cell_type": "markdown",
   "metadata": {},
   "source": [
    "### 11. Print the number of products orderd in total?\n",
    "#### Either summation of all quantities (sum of quantity column)\n",
    "#### Or \n",
    "#### Summation of the count of products( considring only counting product once per order)"
   ]
  },
  {
   "cell_type": "code",
   "execution_count": 10,
   "metadata": {},
   "outputs": [
    {
     "name": "stdout",
     "output_type": "stream",
     "text": [
      "Number of products ordered in total: 4972\n"
     ]
    }
   ],
   "source": [
    "#Total number of products is the sum of all quantities:\n",
    "total = data[\"quantity\"].sum()\n",
    "print(\"Number of products ordered in total:\",total)"
   ]
  },
  {
   "cell_type": "markdown",
   "metadata": {},
   "source": [
    "### 12. Cast the product price to float type"
   ]
  },
  {
   "cell_type": "code",
   "execution_count": 11,
   "metadata": {},
   "outputs": [
    {
     "data": {
      "text/html": [
       "<div>\n",
       "<style scoped>\n",
       "    .dataframe tbody tr th:only-of-type {\n",
       "        vertical-align: middle;\n",
       "    }\n",
       "\n",
       "    .dataframe tbody tr th {\n",
       "        vertical-align: top;\n",
       "    }\n",
       "\n",
       "    .dataframe thead th {\n",
       "        text-align: right;\n",
       "    }\n",
       "</style>\n",
       "<table border=\"1\" class=\"dataframe\">\n",
       "  <thead>\n",
       "    <tr style=\"text-align: right;\">\n",
       "      <th></th>\n",
       "      <th>order_id</th>\n",
       "      <th>quantity</th>\n",
       "      <th>product_name</th>\n",
       "      <th>option_description</th>\n",
       "      <th>product_price</th>\n",
       "    </tr>\n",
       "  </thead>\n",
       "  <tbody>\n",
       "    <tr>\n",
       "      <th>0</th>\n",
       "      <td>1</td>\n",
       "      <td>1</td>\n",
       "      <td>Chips and Fresh Tomato Salsa</td>\n",
       "      <td>NaN</td>\n",
       "      <td>2.39</td>\n",
       "    </tr>\n",
       "    <tr>\n",
       "      <th>1</th>\n",
       "      <td>1</td>\n",
       "      <td>1</td>\n",
       "      <td>Izze</td>\n",
       "      <td>[Clementine]</td>\n",
       "      <td>3.39</td>\n",
       "    </tr>\n",
       "    <tr>\n",
       "      <th>2</th>\n",
       "      <td>1</td>\n",
       "      <td>1</td>\n",
       "      <td>Nantucket Nectar</td>\n",
       "      <td>[Apple]</td>\n",
       "      <td>3.39</td>\n",
       "    </tr>\n",
       "    <tr>\n",
       "      <th>3</th>\n",
       "      <td>1</td>\n",
       "      <td>1</td>\n",
       "      <td>Chips and Tomatillo-Green Chili Salsa</td>\n",
       "      <td>NaN</td>\n",
       "      <td>2.39</td>\n",
       "    </tr>\n",
       "    <tr>\n",
       "      <th>4</th>\n",
       "      <td>2</td>\n",
       "      <td>2</td>\n",
       "      <td>Chicken Bowl</td>\n",
       "      <td>[Tomatillo-Red Chili Salsa (Hot), [Black Beans...</td>\n",
       "      <td>16.98</td>\n",
       "    </tr>\n",
       "    <tr>\n",
       "      <th>...</th>\n",
       "      <td>...</td>\n",
       "      <td>...</td>\n",
       "      <td>...</td>\n",
       "      <td>...</td>\n",
       "      <td>...</td>\n",
       "    </tr>\n",
       "    <tr>\n",
       "      <th>4617</th>\n",
       "      <td>1833</td>\n",
       "      <td>1</td>\n",
       "      <td>Steak Burrito</td>\n",
       "      <td>[Fresh Tomato Salsa, [Rice, Black Beans, Sour ...</td>\n",
       "      <td>11.75</td>\n",
       "    </tr>\n",
       "    <tr>\n",
       "      <th>4618</th>\n",
       "      <td>1833</td>\n",
       "      <td>1</td>\n",
       "      <td>Steak Burrito</td>\n",
       "      <td>[Fresh Tomato Salsa, [Rice, Sour Cream, Cheese...</td>\n",
       "      <td>11.75</td>\n",
       "    </tr>\n",
       "    <tr>\n",
       "      <th>4619</th>\n",
       "      <td>1834</td>\n",
       "      <td>1</td>\n",
       "      <td>Chicken Salad Bowl</td>\n",
       "      <td>[Fresh Tomato Salsa, [Fajita Vegetables, Pinto...</td>\n",
       "      <td>11.25</td>\n",
       "    </tr>\n",
       "    <tr>\n",
       "      <th>4620</th>\n",
       "      <td>1834</td>\n",
       "      <td>1</td>\n",
       "      <td>Chicken Salad Bowl</td>\n",
       "      <td>[Fresh Tomato Salsa, [Fajita Vegetables, Lettu...</td>\n",
       "      <td>8.75</td>\n",
       "    </tr>\n",
       "    <tr>\n",
       "      <th>4621</th>\n",
       "      <td>1834</td>\n",
       "      <td>1</td>\n",
       "      <td>Chicken Salad Bowl</td>\n",
       "      <td>[Fresh Tomato Salsa, [Fajita Vegetables, Pinto...</td>\n",
       "      <td>8.75</td>\n",
       "    </tr>\n",
       "  </tbody>\n",
       "</table>\n",
       "<p>4622 rows × 5 columns</p>\n",
       "</div>"
      ],
      "text/plain": [
       "      order_id  quantity                           product_name  \\\n",
       "0            1         1           Chips and Fresh Tomato Salsa   \n",
       "1            1         1                                   Izze   \n",
       "2            1         1                       Nantucket Nectar   \n",
       "3            1         1  Chips and Tomatillo-Green Chili Salsa   \n",
       "4            2         2                           Chicken Bowl   \n",
       "...        ...       ...                                    ...   \n",
       "4617      1833         1                          Steak Burrito   \n",
       "4618      1833         1                          Steak Burrito   \n",
       "4619      1834         1                     Chicken Salad Bowl   \n",
       "4620      1834         1                     Chicken Salad Bowl   \n",
       "4621      1834         1                     Chicken Salad Bowl   \n",
       "\n",
       "                                     option_description  product_price  \n",
       "0                                                   NaN           2.39  \n",
       "1                                          [Clementine]           3.39  \n",
       "2                                               [Apple]           3.39  \n",
       "3                                                   NaN           2.39  \n",
       "4     [Tomatillo-Red Chili Salsa (Hot), [Black Beans...          16.98  \n",
       "...                                                 ...            ...  \n",
       "4617  [Fresh Tomato Salsa, [Rice, Black Beans, Sour ...          11.75  \n",
       "4618  [Fresh Tomato Salsa, [Rice, Sour Cream, Cheese...          11.75  \n",
       "4619  [Fresh Tomato Salsa, [Fajita Vegetables, Pinto...          11.25  \n",
       "4620  [Fresh Tomato Salsa, [Fajita Vegetables, Lettu...           8.75  \n",
       "4621  [Fresh Tomato Salsa, [Fajita Vegetables, Pinto...           8.75  \n",
       "\n",
       "[4622 rows x 5 columns]"
      ]
     },
     "execution_count": 11,
     "metadata": {},
     "output_type": "execute_result"
    }
   ],
   "source": [
    "data [\"product_price\"] = data[\"product_price\"].str.replace(\"$\",\"\").astype(float) #Replace the dollarsign with nothing and convert to float\n",
    "data"
   ]
  },
  {
   "cell_type": "markdown",
   "metadata": {},
   "source": [
    "### 13. Print the quantity of the costliest product ordered?\n",
    "#### Let's put it this way, costliest entry in product_price column. (From email correspodance)"
   ]
  },
  {
   "cell_type": "code",
   "execution_count": 12,
   "metadata": {},
   "outputs": [
    {
     "name": "stdout",
     "output_type": "stream",
     "text": [
      "The costliest entry in product_price column is: 44.25\n",
      "We see below that the quantity at max price entry is 15!\n"
     ]
    },
    {
     "data": {
      "text/html": [
       "<div>\n",
       "<style scoped>\n",
       "    .dataframe tbody tr th:only-of-type {\n",
       "        vertical-align: middle;\n",
       "    }\n",
       "\n",
       "    .dataframe tbody tr th {\n",
       "        vertical-align: top;\n",
       "    }\n",
       "\n",
       "    .dataframe thead th {\n",
       "        text-align: right;\n",
       "    }\n",
       "</style>\n",
       "<table border=\"1\" class=\"dataframe\">\n",
       "  <thead>\n",
       "    <tr style=\"text-align: right;\">\n",
       "      <th></th>\n",
       "      <th>order_id</th>\n",
       "      <th>quantity</th>\n",
       "      <th>product_name</th>\n",
       "      <th>option_description</th>\n",
       "      <th>product_price</th>\n",
       "    </tr>\n",
       "  </thead>\n",
       "  <tbody>\n",
       "    <tr>\n",
       "      <th>3598</th>\n",
       "      <td>1443</td>\n",
       "      <td>15</td>\n",
       "      <td>Chips and Fresh Tomato Salsa</td>\n",
       "      <td>NaN</td>\n",
       "      <td>44.25</td>\n",
       "    </tr>\n",
       "  </tbody>\n",
       "</table>\n",
       "</div>"
      ],
      "text/plain": [
       "      order_id  quantity                  product_name option_description  \\\n",
       "3598      1443        15  Chips and Fresh Tomato Salsa                NaN   \n",
       "\n",
       "      product_price  \n",
       "3598          44.25  "
      ]
     },
     "execution_count": 12,
     "metadata": {},
     "output_type": "execute_result"
    }
   ],
   "source": [
    "highest_product_price = data[\"product_price\"].max()\n",
    "print(\"The costliest entry in product_price column is:\",highest_product_price)\n",
    "quantity = data[data[\"product_price\"] == highest_product_price]\n",
    "print(\"We see below that the quantity at max price entry is 15!\")\n",
    "quantity\n"
   ]
  },
  {
   "cell_type": "markdown",
   "metadata": {},
   "source": [
    "### 14. What was the revenue for the whole period in the dataset?\n",
    "#### Sum (quantity column * product_price column)"
   ]
  },
  {
   "cell_type": "code",
   "execution_count": 13,
   "metadata": {},
   "outputs": [
    {
     "name": "stdout",
     "output_type": "stream",
     "text": [
      "The revenye for the whole period in the dataset was: 39237.02 $.\n"
     ]
    }
   ],
   "source": [
    "revenue = sum(data[\"quantity\"]*data[\"product_price\"])\n",
    "print(\"The revenye for the whole period in the dataset was:\",round(revenue,2),\"$.\")"
   ]
  },
  {
   "cell_type": "markdown",
   "metadata": {},
   "source": [
    "### 15. Print the total no of orders in the whole period, where order_id is odd?"
   ]
  },
  {
   "cell_type": "code",
   "execution_count": 14,
   "metadata": {},
   "outputs": [
    {
     "name": "stdout",
     "output_type": "stream",
     "text": [
      "Number of orders where order id is odd: 917\n"
     ]
    }
   ],
   "source": [
    "#I inteperet this as finding how many order ids are odd:\n",
    "ids = data.order_id\n",
    "odd_id_list = []\n",
    "c = 0\n",
    "for i in ids:\n",
    "    if ((i % 2 != 0) and i not in odd_id_list): #if the number is odd\n",
    "        odd_id_list.append(i)\n",
    "        c += 1\n",
    "\n",
    "print(\"Number of orders where order id is odd:\",c)\n"
   ]
  },
  {
   "cell_type": "markdown",
   "metadata": {},
   "source": [
    "### 16. Print the average price per order?"
   ]
  },
  {
   "cell_type": "code",
   "execution_count": 15,
   "metadata": {},
   "outputs": [
    {
     "name": "stdout",
     "output_type": "stream",
     "text": [
      "Average price per order: 18.81 $.\n"
     ]
    }
   ],
   "source": [
    "avg_price_per_order = data[\"product_price\"].sum() / total_orders\n",
    "print(\"Average price per order:\",round(avg_price_per_order,2),\"$.\")"
   ]
  },
  {
   "cell_type": "markdown",
   "metadata": {},
   "source": [
    "### 17. How many unique products were sold?\n",
    "#### Number of unique items in the product_name column."
   ]
  },
  {
   "cell_type": "code",
   "execution_count": 16,
   "metadata": {},
   "outputs": [
    {
     "name": "stdout",
     "output_type": "stream",
     "text": [
      "Number of unique items in the product_name column: 50\n"
     ]
    }
   ],
   "source": [
    "no_unique = data[\"product_name\"].nunique()\n",
    "print(\"Number of unique items in the product_name column:\",no_unique)"
   ]
  },
  {
   "cell_type": "markdown",
   "metadata": {},
   "source": [
    "### 18. Print the number of time Veggie Burrito was ordered?"
   ]
  },
  {
   "cell_type": "code",
   "execution_count": 17,
   "metadata": {},
   "outputs": [
    {
     "name": "stdout",
     "output_type": "stream",
     "text": [
      "Number of times Veggie Burrito was ordered: 97\n"
     ]
    }
   ],
   "source": [
    "#Sum the quantity in the rows where product name is Veggie Burrito\n",
    "no_veggies = data.loc[data[\"product_name\"] == \"Veggie Burrito\",\"quantity\"].sum()\n",
    "print(\"Number of times Veggie Burrito was ordered:\",no_veggies)"
   ]
  },
  {
   "cell_type": "markdown",
   "metadata": {},
   "source": [
    "### 19. Print the products, which cost more than $10.00?\n",
    "#### Use product_price and product_name columns only, irrespective of quantity value"
   ]
  },
  {
   "cell_type": "code",
   "execution_count": 18,
   "metadata": {},
   "outputs": [
    {
     "data": {
      "text/html": [
       "<div>\n",
       "<style scoped>\n",
       "    .dataframe tbody tr th:only-of-type {\n",
       "        vertical-align: middle;\n",
       "    }\n",
       "\n",
       "    .dataframe tbody tr th {\n",
       "        vertical-align: top;\n",
       "    }\n",
       "\n",
       "    .dataframe thead th {\n",
       "        text-align: right;\n",
       "    }\n",
       "</style>\n",
       "<table border=\"1\" class=\"dataframe\">\n",
       "  <thead>\n",
       "    <tr style=\"text-align: right;\">\n",
       "      <th></th>\n",
       "      <th>product_price</th>\n",
       "      <th>product_name</th>\n",
       "    </tr>\n",
       "  </thead>\n",
       "  <tbody>\n",
       "    <tr>\n",
       "      <th>4</th>\n",
       "      <td>16.98</td>\n",
       "      <td>Chicken Bowl</td>\n",
       "    </tr>\n",
       "    <tr>\n",
       "      <th>5</th>\n",
       "      <td>10.98</td>\n",
       "      <td>Chicken Bowl</td>\n",
       "    </tr>\n",
       "    <tr>\n",
       "      <th>7</th>\n",
       "      <td>11.75</td>\n",
       "      <td>Steak Burrito</td>\n",
       "    </tr>\n",
       "    <tr>\n",
       "      <th>13</th>\n",
       "      <td>11.25</td>\n",
       "      <td>Chicken Bowl</td>\n",
       "    </tr>\n",
       "    <tr>\n",
       "      <th>23</th>\n",
       "      <td>10.98</td>\n",
       "      <td>Chicken Burrito</td>\n",
       "    </tr>\n",
       "    <tr>\n",
       "      <th>...</th>\n",
       "      <td>...</td>\n",
       "      <td>...</td>\n",
       "    </tr>\n",
       "    <tr>\n",
       "      <th>4610</th>\n",
       "      <td>11.75</td>\n",
       "      <td>Steak Burrito</td>\n",
       "    </tr>\n",
       "    <tr>\n",
       "      <th>4611</th>\n",
       "      <td>11.25</td>\n",
       "      <td>Veggie Burrito</td>\n",
       "    </tr>\n",
       "    <tr>\n",
       "      <th>4617</th>\n",
       "      <td>11.75</td>\n",
       "      <td>Steak Burrito</td>\n",
       "    </tr>\n",
       "    <tr>\n",
       "      <th>4618</th>\n",
       "      <td>11.75</td>\n",
       "      <td>Steak Burrito</td>\n",
       "    </tr>\n",
       "    <tr>\n",
       "      <th>4619</th>\n",
       "      <td>11.25</td>\n",
       "      <td>Chicken Salad Bowl</td>\n",
       "    </tr>\n",
       "  </tbody>\n",
       "</table>\n",
       "<p>1130 rows × 2 columns</p>\n",
       "</div>"
      ],
      "text/plain": [
       "      product_price        product_name\n",
       "4             16.98        Chicken Bowl\n",
       "5             10.98        Chicken Bowl\n",
       "7             11.75       Steak Burrito\n",
       "13            11.25        Chicken Bowl\n",
       "23            10.98     Chicken Burrito\n",
       "...             ...                 ...\n",
       "4610          11.75       Steak Burrito\n",
       "4611          11.25      Veggie Burrito\n",
       "4617          11.75       Steak Burrito\n",
       "4618          11.75       Steak Burrito\n",
       "4619          11.25  Chicken Salad Bowl\n",
       "\n",
       "[1130 rows x 2 columns]"
      ]
     },
     "execution_count": 18,
     "metadata": {},
     "output_type": "execute_result"
    }
   ],
   "source": [
    "over_10 = data[data[\"product_price\"] > 10.00]\n",
    "price_name_df = pd.DataFrame(over_10)\n",
    "price_name_df[[\"product_price\",\"product_name\"]]"
   ]
  },
  {
   "cell_type": "markdown",
   "metadata": {},
   "source": [
    "### 20. Plot a histogram for the prices of top 7 products bought\n",
    "#### Select top 7 products based on number of times, they got ordered (use product_name column)\n",
    "#### Fetch the prices for each top 7 products ( there will many prices for each product)\n",
    "####  Draw a histogram of prices (with relative frequency) \n",
    "#### X-axis = Price, Y-axis = relative frequency"
   ]
  },
  {
   "cell_type": "code",
   "execution_count": 19,
   "metadata": {},
   "outputs": [
    {
     "name": "stdout",
     "output_type": "stream",
     "text": [
      "{'Chicken Bowl': 726, 'Chicken Burrito': 553, 'Chips and Guacamole': 479, 'Steak Burrito': 368, 'Canned Soft Drink': 301, 'Steak Bowl': 211, 'Chips': 211}\n"
     ]
    },
    {
     "data": {
      "image/png": "[encoded data removed]",
      "text/plain": [
       "<Figure size 432x288 with 1 Axes>"
      ]
     },
     "metadata": {},
     "output_type": "display_data"
    }
   ],
   "source": [
    "top_7 = data[\"product_name\"].value_counts()[:7].to_dict()\n",
    "#Lets see the top_7 products\n",
    "print(top_7)\n",
    "\n",
    "#create lists containing pricec for each of the top 7 products\n",
    "\n",
    "#prices are divided by quantity \n",
    "\n",
    "def prices_div_by_quantity(key):\n",
    "    prices_list = data.loc[data[\"product_name\"] == key,\"product_price\"].tolist()\n",
    "    quantity_list = data.loc[data[\"product_name\"] == key,\"quantity\"].tolist()\n",
    "    price_quantity = [p/q for p,q in zip(prices_list,quantity_list)] \n",
    "    return price_quantity \n",
    "\n",
    "\n",
    "chicken_bowl_prices = prices_div_by_quantity(\"Chicken Bowl\")\n",
    "\n",
    "chicken_burrito_prices = prices_div_by_quantity(\"Chicken Burrito\")\n",
    "chips_guac_price = prices_div_by_quantity(\"Chips and Guacamole\")\n",
    "steak_burrito = prices_div_by_quantity(\"Steak Burrito\")\n",
    "canned_soft_drink = prices_div_by_quantity(\"Canned Soft Drink\")\n",
    "steak_bowl = prices_div_by_quantity(\"Steak Bowl\")\n",
    "chips = prices_div_by_quantity(\"Chips\")\n",
    "labels = [\"Chicken Bowl\",\"Chicken Burrito\",\"Chips and Guacamole\",\"Steak Burrito\",\"Canned Soft Drink\",\"Steak Bowl\",\"Chips\"]\n",
    "colors = [\"firebrick\",\"tan\",\"seagreen\",\"navy\",\"yellowgreen\",\"teal\",\"plum\"]\n",
    "x = [chicken_bowl_prices,chicken_burrito_prices,chips_guac_price,steak_burrito,canned_soft_drink,steak_bowl,chips]\n",
    "plt.hist(x,density=True,histtype=\"bar\",color=colors,label = labels)\n",
    "plt.legend(loc=\"lower center\",ncol=4,fancybox=True,bbox_to_anchor=(0.5,-0.4))\n",
    "plt.xlabel(\"Price in $\")\n",
    "plt.ylabel(\"Relative frequency\")\n",
    "plt.title(\"Relative frequency vs Price \\n for the 7 most popular items\")\n",
    "plt.show()"
   ]
  },
  {
   "cell_type": "markdown",
   "metadata": {},
   "source": [
    "### 21. Draw a scatterplot with the number of products orderered per transaction price\n",
    "#### Tips: Price should be in the X-axis and products ordered in the Y-axis"
   ]
  },
  {
   "cell_type": "code",
   "execution_count": 20,
   "metadata": {},
   "outputs": [
    {
     "data": {
      "image/png": "[encoded data removed]",
      "text/plain": [
       "<Figure size 432x288 with 1 Axes>"
      ]
     },
     "metadata": {},
     "output_type": "display_data"
    }
   ],
   "source": [
    "order_id = np.unique(data.order_id) #create a list of unique ids\n",
    "transaction_cost = [] #cost of each orderd (sum of money used per order_id)\n",
    "number_of_prod = []  #sum of quantity per order_id\n",
    "for i in order_id: \n",
    "    transaction_cost.append(data.loc[data[\"order_id\"] == i,\"product_price\"].sum())\n",
    "    number_of_prod.append(data.loc[data[\"order_id\"] == i,\"quantity\"].sum())\n",
    "\n",
    "plt.scatter(transaction_cost,number_of_prod)\n",
    "plt.title(\"Transaction price vs \\nNumber of products per order\")\n",
    "plt.xlabel(\"Total order price [$]\")\n",
    "plt.ylabel(\"Total number of products ordered\")\n",
    "plt.show()\n"
   ]
  },
  {
   "cell_type": "code",
   "execution_count": 161,
   "metadata": {},
   "outputs": [
    {
     "data": {
      "text/plain": [
       "11.56"
      ]
     },
     "execution_count": 161,
     "metadata": {},
     "output_type": "execute_result"
    }
   ],
   "source": [
    "transaction_cost[0]"
   ]
  },
  {
   "cell_type": "code",
   "execution_count": null,
   "metadata": {},
   "outputs": [],
   "source": []
  }
 ],
 "metadata": {
  "kernelspec": {
   "display_name": "Python 3",
   "language": "python",
   "name": "python3"
  },
  "language_info": {
   "codemirror_mode": {
    "name": "ipython",
    "version": 3
   },
   "file_extension": ".py",
   "mimetype": "text/x-python",
   "name": "python",
   "nbconvert_exporter": "python",
   "pygments_lexer": "ipython3",
   "version": "3.7.9"
  }
 },
 "nbformat": 4,
 "nbformat_minor": 2
}
